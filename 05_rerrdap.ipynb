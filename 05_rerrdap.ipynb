{
 "cells": [
  {
   "cell_type": "markdown",
   "id": "a87a1e34-610f-4fab-b0a3-4ba9c485e4a3",
   "metadata": {},
   "source": [
    "# Demo of rerddap\n",
    "\n",
    "Using the [rerddap](https://github.com/ropensci/rerddap/) package\n",
    "\n",
    "Installed from condaforge with ` conda install -c conda-forge r-rerddap`\n",
    "\n",
    "Thanks to Martin Mohrmann for the original script"
   ]
  },
  {
   "cell_type": "code",
   "execution_count": null,
   "id": "6a31e263-5904-4f7f-afa3-7da9f6dc1d11",
   "metadata": {},
   "outputs": [],
   "source": [
    "library(\"rerddap\") # import library\n",
    "urlBase <- \"https://erddap.observations.voiceoftheocean.org/erddap\" # set server\n"
   ]
  },
  {
   "cell_type": "markdown",
   "id": "5dd22c70-45f2-4509-ac96-303cffadf449",
   "metadata": {},
   "source": [
    "### Get table of datasets from server"
   ]
  },
  {
   "cell_type": "code",
   "execution_count": null,
   "id": "adfe1710-bfe7-4795-86eb-3162e2a5249c",
   "metadata": {},
   "outputs": [],
   "source": [
    "datasetInfo <- info(\"allDatasets\",  url = urlBase)\n",
    "datasettable <- tabledap(datasetInfo, url = urlBase)\n",
    "datasettable"
   ]
  },
  {
   "cell_type": "markdown",
   "id": "a95f8a0b-3fd6-430e-b317-6078f09c5785",
   "metadata": {},
   "source": [
    "### Get data from a chosen dataset"
   ]
  },
  {
   "cell_type": "code",
   "execution_count": null,
   "id": "732450c8-e9e7-4b06-8435-ea5da35204f0",
   "metadata": {},
   "outputs": [],
   "source": [
    "gliderInfo <- info(\"nrt_SEA068_M27\",  url = urlBase)\n",
    "glider <- tabledap(gliderInfo, fields = c(\"longitude\", \"latitude\", \"depth\", \"salinity\", \"time\"), url = urlBase)\n"
   ]
  },
  {
   "cell_type": "code",
   "execution_count": null,
   "id": "1f23788f-29c9-4b54-b12b-fbe86d9c82f0",
   "metadata": {},
   "outputs": [],
   "source": [
    "gliderInfo"
   ]
  },
  {
   "cell_type": "code",
   "execution_count": null,
   "id": "76d89f0b-61ca-4d8f-8f65-bdae129ef820",
   "metadata": {},
   "outputs": [],
   "source": [
    "glider"
   ]
  },
  {
   "cell_type": "markdown",
   "id": "bb3c7531-512f-459c-96f0-5c3ff5f1496a",
   "metadata": {},
   "source": [
    "-------------------------\n",
    "### References\n",
    "\n",
    "More documentation on rerddap https://docs.ropensci.org/rerddap/articles/rerddap.html\n"
   ]
  }
 ],
 "metadata": {
  "kernelspec": {
   "display_name": "R",
   "language": "R",
   "name": "ir"
  },
  "language_info": {
   "codemirror_mode": "r",
   "file_extension": ".r",
   "mimetype": "text/x-r-source",
   "name": "R",
   "pygments_lexer": "r",
   "version": "4.3.1"
  }
 },
 "nbformat": 4,
 "nbformat_minor": 5
}
