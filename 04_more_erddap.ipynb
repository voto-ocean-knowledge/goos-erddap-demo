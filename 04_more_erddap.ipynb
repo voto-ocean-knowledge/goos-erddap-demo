{
 "cells": [
  {
   "cell_type": "markdown",
   "id": "159b6f7e-774d-4b68-82bf-4312285553b6",
   "metadata": {},
   "source": [
    "# Miscellaneous ERDDAP functionality"
   ]
  },
  {
   "cell_type": "code",
   "execution_count": 1,
   "id": "818972bc-f6c3-4855-8cb6-23162f5077cc",
   "metadata": {},
   "outputs": [],
   "source": [
    "from erddapy import ERDDAP\n",
    "import types\n",
    "import requests"
   ]
  },
  {
   "cell_type": "markdown",
   "id": "81a7290b-4d44-4ab5-b2b6-5028fb5c8513",
   "metadata": {},
   "source": [
    "### Get metadata\n",
    "\n",
    "To see detailed metadata from a dataset, we request the **ncCF** format"
   ]
  },
  {
   "cell_type": "code",
   "execution_count": 2,
   "id": "5cf921a1-2408-42ff-a116-4270012651b0",
   "metadata": {},
   "outputs": [],
   "source": [
    "e = ERDDAP(\n",
    "    server=\"https://erddap.observations.voiceoftheocean.org/erddap\",\n",
    "    protocol=\"tabledap\")\n"
   ]
  },
  {
   "cell_type": "code",
   "execution_count": 3,
   "id": "dee1788f-24cf-4f6f-a2b9-6a7ed518e6fb",
   "metadata": {},
   "outputs": [],
   "source": [
    "dataset_id = \"nrt_SEA068_M27\"\n",
    "e.dataset_id = dataset_id\n",
    "meta = e.to_ncCF()"
   ]
  },
  {
   "cell_type": "code",
   "execution_count": 4,
   "id": "ae86854c-744d-4536-b338-fe544e527790",
   "metadata": {},
   "outputs": [],
   "source": [
    "attrs = {}\n",
    "for key_name in dir(meta):\n",
    "    if key_name[0] == \"_\":\n",
    "        continue\n",
    "    val =  meta.__getattribute__(key_name)\n",
    "    if type(val) is types.MethodType:\n",
    "        continue\n",
    "    attrs[key_name] = val"
   ]
  },
  {
   "cell_type": "markdown",
   "id": "51190ec9-94e1-4962-83d1-222b04ec5246",
   "metadata": {},
   "source": [
    "### Display satellite data"
   ]
  },
  {
   "cell_type": "markdown",
   "id": "aa5f211e-9eb6-47ac-8aeb-96303ce6200b",
   "metadata": {},
   "source": [
    "### Display vector data"
   ]
  },
  {
   "cell_type": "markdown",
   "id": "53871ecd-4e96-4606-848c-4eed7ecbe79a",
   "metadata": {},
   "source": [
    "### Get data into matlab/R\n",
    "\n",
    "Using the xarray and pandas objects from the previous notebooks, we can write out our datasets as **.csv** or **.nc** files that can be read by a range of programs\n",
    "\n"
   ]
  },
  {
   "cell_type": "code",
   "execution_count": 5,
   "id": "2cf44e0a-a553-4999-9704-bac1b62ea05e",
   "metadata": {},
   "outputs": [],
   "source": [
    "df = e.to_pandas()\n",
    "df.to_csv(f\"{dataset_id}.csv\")"
   ]
  },
  {
   "cell_type": "markdown",
   "id": "96dc80b1-77af-46fd-949a-de4b0f4b8364",
   "metadata": {},
   "source": [
    "There is no matlab client for ERDDAP that I am aware of, but you can use Python to download matlab data:"
   ]
  },
  {
   "cell_type": "code",
   "execution_count": 6,
   "id": "29d9f7fb-d479-474c-a7fe-b5b05e74e705",
   "metadata": {},
   "outputs": [
    {
     "data": {
      "text/plain": [
       "'https://erddap.observations.voiceoftheocean.org/erddap/tabledap/nrt_SEA068_M27.mat?'"
      ]
     },
     "execution_count": 6,
     "metadata": {},
     "output_type": "execute_result"
    }
   ],
   "source": [
    "# Do all you usual edits here for variables, limits etc.\n",
    "url = e.get_download_url()\n",
    "matlab_url = url.replace(\"html\", \"mat\")\n",
    "matlab_url"
   ]
  },
  {
   "cell_type": "markdown",
   "id": "c6086847-a4e0-49f8-844e-96d9704fb145",
   "metadata": {},
   "source": [
    "We use requests to write out to **.mat**"
   ]
  },
  {
   "cell_type": "code",
   "execution_count": 7,
   "id": "13aa155b-209a-42fe-aef7-2f31dbcc354b",
   "metadata": {},
   "outputs": [],
   "source": [
    "response = requests.get(matlab_url)\n",
    "with open(f\"{dataset_id}.mat\", \"wb\") as fout:\n",
    "    fout.write(response.content)"
   ]
  },
  {
   "cell_type": "markdown",
   "id": "50629b82-7bda-4ce4-bff8-2f0b03298ddc",
   "metadata": {},
   "source": [
    "### Or use an ERDDAP that serves native .mat files 🤷\n",
    "http://erddap.oleander.bios.edu:8080/erddap/files/oleanderXbtMatFiles/"
   ]
  },
  {
   "cell_type": "markdown",
   "id": "4dd89613-23d6-4db0-aa14-a750ba8a78d5",
   "metadata": {},
   "source": [
    "See notebook 05 for using R. "
   ]
  }
 ],
 "metadata": {
  "kernelspec": {
   "display_name": "Python 3 (ipykernel)",
   "language": "python",
   "name": "python3"
  },
  "language_info": {
   "codemirror_mode": {
    "name": "ipython",
    "version": 3
   },
   "file_extension": ".py",
   "mimetype": "text/x-python",
   "name": "python",
   "nbconvert_exporter": "python",
   "pygments_lexer": "ipython3",
   "version": "3.11.5"
  }
 },
 "nbformat": 4,
 "nbformat_minor": 5
}
